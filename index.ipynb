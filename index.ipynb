
{
 "cells": [
  {
   "cell_type": "markdown",
   "metadata": {},
   
   "source": [
    "[![Binder](img/badge-binder.svg)](https://mybinder.org/v2/gh/nhirschey/FSharp.Data.Fred/gh-pages?filepath=index.ipynb)\u0026emsp;\n",
    "[![Script](img/badge-script.svg)](https://nhirschey.github.io/FSharp.Data.Fred//index.fsx)\u0026emsp;\n",
    "[![Notebook](img/badge-notebook.svg)](https://nhirschey.github.io/FSharp.Data.Fred//index.ipynb)\n",
    "\n",
    "# F# Data FRED\n",
    "\n",
    "F# Data FRED is a library for\n",
    "[FRED database](https://fred.stlouisfed.org/) data access\n",
    "based on FSharp.Data.\n",
    "Short for Federal Reserve Economic Data, FRED is an online database consisting\n",
    "of hundreds of thousands of economic data time series from scores of national,\n",
    "international, public, and private sources.\n",
    "This library uses the [FRED API](https://fred.stlouisfed.org/docs/api/fred/) to access the data.\n",
    "\n",
    "You can use `FSharp.Data.Fred` in [dotnet interactive](https://github.com/dotnet/interactive)\n",
    "notebooks in [Visual Studio Code](https://code.visualstudio.com/)\n",
    "or [Jupyter](https://jupyter.org/), or in F# scripts (`.fsx` files),\n",
    "by referencing the package as follows:\n",
    "\n",
    "    #r \"nuget: FSharp.Data.Fred, 0.2.1\"   \n",
    "    #r \"nuget: FSharp.Data\" //Also load FSharp.Data\n",
    "\n"
   ]
  }
,
  {
   "cell_type": "code",
   "metadata": {
    "dotnet_interactive": {
     "language": "fsharp"
    },
    "polyglot_notebook": {
     "kernelName": "fsharp"
    }
   },
   "execution_count": 2, "outputs": [],
   "source": [
    "open FSharp.Data\n",
    "open FSharp.Data.Fred\n",
    "open System //Usefull to access DateTime\n"
   ]
  }
,
  {
   "cell_type": "markdown",
   "metadata": {},
   
   "source": [
    "## F# Data FRED\n",
    "\n",
    "First in order to use the methods you\u0027ll need to create a value with type `Fred`.\n",
    "Fred receives an API key as a parameter (`string`). [Get your FRED API key.](https://fred.stlouisfed.org/docs/api/api_key.html)\n",
    "Example:\n",
    "let apiKey = \"insert API key here\"\n",
    "\n",
    "Now you can use the created value `myFred` to access all the methods in the FRED library.\n",
    "\n",
    "## FRED.Series Module Functions:\n",
    "\n",
    "0 [Search.](#F-Data-FRED-Series-Search)\n",
    "\n",
    "1 [Info.](#F-Data-FRED-Series-Info)\n",
    "\n",
    "2 [Categories.](#F-Data-FRED-Series-Categories)\n",
    "\n",
    "3 [Release.](#F-Data-FRED-Series-Release)\n",
    "\n",
    "4 [Tags.](#F-Data-FRED-Series-Tags)\n",
    "\n",
    "5 [Observations.](#F-Data-FRED-Series-Observations)\n",
    "\n",
    "### F# Data FRED: Series.Search\n",
    "\n",
    "A collection of economic data series that match the parameters.\n",
    "\n",
    "The parameters are the following:\n",
    "\n",
    "0 **searchText**, required.\n",
    "The words to match against economic data series.\n",
    "\n",
    "1 **searchType**, optional. Default is `SearchType.FullText`.\n",
    "Determines the type of search to perform.\n",
    "One of the following: `SearchType.FullText` or `SearchType.SeriesId`.\n",
    "\n",
    "  * `SearchType.FullText` searches series attributes title, units, frequency, and tags by parsing words into stems. \n",
    "This makes it possible for searches like \u0027Industry\u0027 to match series containing related words such as \u0027Industries\u0027.\n",
    "Of course, you can search for multiple words like \u0027money\u0027 and \u0027stock\u0027. Remember to url encode spaces (e.g. `\u0027money%20stock\u0027`).\n",
    "  \n",
    "  * `SearchType.SeriesId` performs a substring search on series IDs. Searching for \u0027ex\u0027 will find series containing \u0027ex\u0027 anywhere in a series ID.\n",
    "\u0027**\u0027 can be used to anchor searches and match 0 or more of any character. Searching for \u0027ex**\u0027 will find series containing \u0027ex\u0027 at the beginning of a series ID.\n",
    "Searching for \u0027**ex\u0027 will find series containing \u0027ex\u0027 at the end of a series ID. It\u0027s also possible to put an \u0027**\u0027 in the middle of a string.\n",
    "\u0027m*sl\u0027 finds any series starting with \u0027m\u0027 and ending with \u0027sl\u0027.\n",
    "  \n",
    "\n",
    "2 **realtimeStart**, optional. Default: today\u0027s date.\n",
    "The start of the real-time period. For more information, see [Real-Time Periods](https://fred.stlouisfed.org/docs/api/fred/realtime_period.html).\n",
    "\n",
    "3 **realtimeEnd**, optional. Default: today\u0027s date.\n",
    "The start of the real-time period. For more information, see [Real-Time Periods](https://fred.stlouisfed.org/docs/api/fred/realtime_period.html).\n",
    "\n",
    "4 **limit**, optional. Default: `1000`.\n",
    "The maximum number of results to return.\n",
    "integer between `1` and `1000`.\n",
    "\n",
    "5 **orderBy**, optional. Default: If the value of `searchType` is `SearchType.FullText` then the default value of `orderBy` is `SearchOrder.SearchRank`. If the value of `searchType` is `SearchType.SeriesId` then the default value of `orderBy` is `SearchOrder.SeriesId`.\n",
    "Order results by values of the specified attribute.\n",
    "One of the following:\n",
    "`SearchOrder.SearchRank` `SearchOrder.SeriesIdOrder` `SearchOrder.Title` `SearchOrder.Units` `SearchOrder.Frequency` `SearchOrder.SeasonalAdjustment`\n",
    "`SearchOrder.RealTimeStart` `SearchOrder.RealTimeEnd` `SearchOrder.LastUpdated` `SearchOrder.ObservationStart` `SearchOrder.ObservationEnd` `SearchOrder.Popularity` `SearchOrder.GroupPopularity`\n",
    "\n",
    "6 **sortOrder**, optional. Default: If `orderBy` is equal to `SearchOrder.SearchRank` or `SearchOrder.Popularity`, then the default value of `sortOrder` is `SortOrder.Descending`. Otherwise, the default `sortOrder` is `SortOrder.Ascending`.\n",
    "Sort results is ascending or descending order for attribute values specified by `orderBy`.\n",
    "\n",
    "Examples:\n",
    "\n",
    "Search for `\"10-Year\"` text without specifying any optional parameters.\n",
    "\n"
   ]
  }
,
  {
   "cell_type": "code",
   "metadata": {
    "dotnet_interactive": {
     "language": "fsharp"
    },
    "polyglot_notebook": {
     "kernelName": "fsharp"
    }
   },
   "execution_count": 4, "outputs": [
          {
           "data": {
            "text/plain": ["Count of search hits: 10590",
"Top 10 results:",
"  1. 10-Year Treasury Constant Maturity Minus 2-Year Treasury Constant Maturity ",
"         Id: T10Y2Y     Period: 1976-06-01 to 2023-11-09  Freq: Daily ",
"",
"  2. 10-Year Treasury Constant Maturity Minus 2-Year Treasury Constant Maturity ",
"         Id: T10Y2YM    Period: 1976-06-01 to 2023-10-01  Freq: Monthly ",
"",
"  3. 10-Year Treasury Constant Maturity Minus 3-Month Treasury Constant Maturity ",
"         Id: T10Y3M     Period: 1982-01-04 to 2023-11-09  Freq: Daily ",
"",
"  4. Market Yield on U.S. Treasury Securities at 10-Year Constant Maturity, Quoted on an Investment Basis ",
"         Id: DGS10      Period: 1962-01-02 to 2023-11-08  Freq: Daily ",
"",
"  5. Market Yield on U.S. Treasury Securities at 10-Year Constant Maturity, Quoted on an Investment Basis ",
"         Id: GS10       Period: 1953-04-01 to 2023-10-01  Freq: Monthly ",
"",
"  6. 10-Year Treasury Constant Maturity Minus 3-Month Treasury Constant Maturity ",
"         Id: T10Y3MM    Period: 1982-01-01 to 2023-10-01  Freq: Monthly ",
"",
"  7. Market Yield on U.S. Treasury Securities at 10-Year Constant Maturity, Quoted on an Investment Basis ",
"         Id: WGS10YR    Period: 1962-01-05 to 2023-11-03  Freq: Weekly, Ending Friday ",
"",
"  8. Market Yield on U.S. Treasury Securities at 10-Year Constant Maturity, Quoted on an Investment Basis ",
"         Id: RIFLGFCY10NA Period: 1962-01-01 to 2022-01-01  Freq: Annual ",
"",
"  9. 10-Year Breakeven Inflation Rate ",
"         Id: T10YIE     Period: 2003-01-02 to 2023-11-09  Freq: Daily ",
"",
" 10. 10-Year Breakeven Inflation Rate ",
"         Id: T10YIEM    Period: 2003-01-01 to 2023-10-01  Freq: Monthly"]
        },
           "execution_count": 4,
           "metadata": {},
           "output_type": "execute_result"
          }],
   "source": [
    "myFred.Series.Search(\"10-Year\").Summary()\n"
   ]
  }
,
  {
   "cell_type": "markdown",
   "metadata": {},
   
   "source": [
    "Search for `\"10-Year\"` text specifying some optional parameters.\n",
    "\n"
   ]
  }
,
  {
   "cell_type": "code",
   "metadata": {
    "dotnet_interactive": {
     "language": "fsharp"
    },
    "polyglot_notebook": {
     "kernelName": "fsharp"
    }
   },
   "execution_count": 5, "outputs": [
          {
           "data": {
            "text/plain": ["Count of search hits: 10590",
"Top 3 results:",
"  1. 10-Year Treasury Constant Maturity Minus 2-Year Treasury Constant Maturity ",
"         Id: T10Y2Y     Period: 1976-06-01 to 2023-11-09  Freq: Daily ",
"",
"  2. 10-Year Treasury Constant Maturity Minus 2-Year Treasury Constant Maturity ",
"         Id: T10Y2YM    Period: 1976-06-01 to 2023-10-01  Freq: Monthly ",
"",
"  3. 10-Year Treasury Constant Maturity Minus 3-Month Treasury Constant Maturity ",
"         Id: T10Y3M     Period: 1982-01-04 to 2023-11-09  Freq: Daily"]
        },
           "execution_count": 5,
           "metadata": {},
           "output_type": "execute_result"
          }],
   "source": [
    "myFred.Series.Search(\"10-Year\", \n",
    "                     searchType = SearchType.FullText, \n",
    "                     limit = 3, \n",
    "                     orderBy = SearchOrder.GroupPopularity, \n",
    "                     sortOrder = SortOrder.Descending).Summary()\n"
   ]
  }
,
  {
   "cell_type": "markdown",
   "metadata": {},
   
   "source": [
    "Search for `\"Hello World\"` text that should not match any series.\n",
    "\n"
   ]
  }
,
  {
   "cell_type": "code",
   "metadata": {
    "dotnet_interactive": {
     "language": "fsharp"
    },
    "polyglot_notebook": {
     "kernelName": "fsharp"
    }
   },
   "execution_count": 6, "outputs": [
          {
           "data": {
            "text/plain": ["Count of search hits: 0",
"Top 0 results:"]
        },
           "execution_count": 6,
           "metadata": {},
           "output_type": "execute_result"
          }],
   "source": [
    "myFred.Series.Search(\"Hello World\").Summary()\n"
   ]
  }
,
  {
   "cell_type": "markdown",
   "metadata": {},
   
   "source": [
    "### F# Data FRED: Series.Info\n",
    "\n",
    "Get the information for an economic data series.\n",
    "\n",
    "This method only asks for the series id as a parameter (`string`)\n",
    "\n",
    "Examples:\n",
    "\n",
    "Get the information for series id = `\"GS10\"`\n",
    "\n"
   ]
  }
,
  {
   "cell_type": "code",
   "metadata": {
    "dotnet_interactive": {
     "language": "fsharp"
    },
    "polyglot_notebook": {
     "kernelName": "fsharp"
    }
   },
   "execution_count": 7, "outputs": [
          {
           "data": {
            "text/plain": ["val it: JsonProvider\u003c...\u003e.InfoResponse =",
"  {",
"  \"realtime_start\": \"2023-11-13\",",
"  \"realtime_end\": \"2023-11-13\",",
"  \"seriess\": [",
"    {",
"      \"id\": \"GS10\",",
"      \"realtime_start\": \"2023-11-13\",",
"      \"realtime_end\": \"2023-11-13\",",
"      \"title\": \"Market Yield on U.S. Treasury Securities at 10-Year Constant Maturity, Quoted on an Investment Basis\",",
"      \"observation_start\": \"1953-04-01\",",
"      \"observation_end\": \"2023-10-01\",",
"      \"frequency\": \"Monthly\",",
"      \"frequency_short\": \"M\",",
"      \"units\": \"Percent\",",
"      \"units_short\": \"%\",",
"      \"seasonal..."]
        },
           "execution_count": 7,
           "metadata": {},
           "output_type": "execute_result"
          }],
   "source": [
    "myFred.Series.Info \"GS10\"\n"
   ]
  }
,
  {
   "cell_type": "markdown",
   "metadata": {},
   
   "source": [
    "### F# Data FRED: Series.Categories\n",
    "\n",
    "Get the categories for an economic data series.\n",
    "\n",
    "The parameters are the following:\n",
    "\n",
    "0 **id**, required.\n",
    "The id for a series (`string`).\n",
    "\n",
    "1 **realtimeStart**, optional. Default: today\u0027s date.\n",
    "The start of the real-time period. For more information, see [Real-Time Periods](https://fred.stlouisfed.org/docs/api/fred/realtime_period.html).\n",
    "\n",
    "2 **realtimeEnd**, optional. Default: today\u0027s date.\n",
    "The start of the real-time period. For more information, see [Real-Time Periods](https://fred.stlouisfed.org/docs/api/fred/realtime_period.html).\n",
    "\n",
    "Examples:\n",
    "\n",
    "Get the category information for series id = `\"GS10\"`\n",
    "\n"
   ]
  }
,
  {
   "cell_type": "code",
   "metadata": {
    "dotnet_interactive": {
     "language": "fsharp"
    },
    "polyglot_notebook": {
     "kernelName": "fsharp"
    }
   },
   "execution_count": 8, "outputs": [
          {
           "data": {
            "text/plain": ["val it: JsonProvider\u003c...\u003e.CategoriesResponse =",
"  {",
"  \"categories\": [",
"    {",
"      \"id\": 115,",
"      \"name\": \"Treasury Constant Maturity\",",
"      \"parent_id\": 22",
"    }",
"  ]",
"}"]
        },
           "execution_count": 8,
           "metadata": {},
           "output_type": "execute_result"
          }],
   "source": [
    "myFred.Series.Categories \"GS10\"\n"
   ]
  }
,
  {
   "cell_type": "markdown",
   "metadata": {},
   
   "source": [
    "You can also access the category fields with `Array.map`:\n",
    "\n"
   ]
  }
,
  {
   "cell_type": "code",
   "metadata": {
    "dotnet_interactive": {
     "language": "fsharp"
    },
    "polyglot_notebook": {
     "kernelName": "fsharp"
    }
   },
   "execution_count": 9, "outputs": [
          {
           "data": {
            "text/plain": ["val it: string array = [|\"Treasury Constant Maturity\"|]"]
        },
           "execution_count": 9,
           "metadata": {},
           "output_type": "execute_result"
          }],
   "source": [
    "myFred.Series.Categories(\"GS10\").Categories\n",
    "|\u003e Array.map(fun x -\u003e x.Name)\n"
   ]
  }
,
  {
   "cell_type": "markdown",
   "metadata": {},
   
   "source": [
    "### F# Data FRED: Series.Release\n",
    "\n",
    "Get the release for an economic data series.\n",
    "\n",
    "The parameters are the following:\n",
    "\n",
    "0 **id**, required.\n",
    "The id for a series (`string`).\n",
    "\n",
    "1 **realtimeStart**, optional. Default: today\u0027s date.\n",
    "The start of the real-time period. For more information, see [Real-Time Periods](https://fred.stlouisfed.org/docs/api/fred/realtime_period.html).\n",
    "\n",
    "2 **realtimeEnd**, optional. Default: today\u0027s date.\n",
    "The start of the real-time period. For more information, see [Real-Time Periods](https://fred.stlouisfed.org/docs/api/fred/realtime_period.html).\n",
    "\n",
    "Examples:\n",
    "\n",
    "Get the release information for series id = `\"GS10\"`\n",
    "\n"
   ]
  }
,
  {
   "cell_type": "code",
   "metadata": {
    "dotnet_interactive": {
     "language": "fsharp"
    },
    "polyglot_notebook": {
     "kernelName": "fsharp"
    }
   },
   "execution_count": 10, "outputs": [
          {
           "data": {
            "text/plain": ["val it: JsonProvider\u003c...\u003e.ReleaseResponse =",
"  {",
"  \"realtime_start\": \"2023-11-13\",",
"  \"realtime_end\": \"2023-11-13\",",
"  \"releases\": [",
"    {",
"      \"id\": 18,",
"      \"realtime_start\": \"2023-11-13\",",
"      \"realtime_end\": \"2023-11-13\",",
"      \"name\": \"H.15 Selected Interest Rates\",",
"      \"press_release\": true,",
"      \"link\": \"http://www.federalreserve.gov/releases/h15/\"",
"    }",
"  ]",
"}"]
        },
           "execution_count": 10,
           "metadata": {},
           "output_type": "execute_result"
          }],
   "source": [
    "myFred.Series.Release \"GS10\"\n"
   ]
  }
,
  {
   "cell_type": "markdown",
   "metadata": {},
   
   "source": [
    "### F# Data FRED: Series.Tags\n",
    "\n",
    "Get the FRED tags for a series.\n",
    "\n",
    "The parameters are the following:\n",
    "\n",
    "0 **id**, required.\n",
    "The id for a series (`string`).\n",
    "\n",
    "1 **realtimeStart**, optional. Default: today\u0027s date.\n",
    "The start of the real-time period. For more information, see [Real-Time Periods](https://fred.stlouisfed.org/docs/api/fred/realtime_period.html).\n",
    "\n",
    "2 **realtimeEnd**, optional. Default: today\u0027s date.\n",
    "The start of the real-time period. For more information, see [Real-Time Periods](https://fred.stlouisfed.org/docs/api/fred/realtime_period.html).\n",
    "\n",
    "3 **orderBy**, optional. Default: `OrderByTags.SeriesCount`.\n",
    "Order results by values of the specified attribute.\n",
    "One of the following:\n",
    "`OrderByTags.SeriesCount`, `OrderByTags.Popularity`, `OrderByTags.Created`, `OrderByTags.Name`, `OrderByTags.GroupId`.\n",
    "\n",
    "4 **sortOrder**, optional. Default: `SortOrder.Ascending`.\n",
    "Sort results is ascending or descending order for attribute values specified by `orderBy`.\n",
    "\n",
    "Examples:\n",
    "\n",
    "Get the first 3 tags information for series id = `\"GS10\"` without specifying any optional parameters.\n",
    "\n"
   ]
  }
,
  {
   "cell_type": "code",
   "metadata": {
    "dotnet_interactive": {
     "language": "fsharp"
    },
    "polyglot_notebook": {
     "kernelName": "fsharp"
    }
   },
   "execution_count": 11, "outputs": [
          {
           "data": {
            "text/plain": ["val it: JsonProvider\u003c...\u003e.Tag array =",
"  [|{",
"  \"name\": \"h15\",",
"  \"group_id\": \"rls\",",
"  \"notes\": \"H.15 Selected Interest Rates\",",
"  \"created\": \"2012-08-16 15:21:17-05\",",
"  \"popularity\": 56,",
"  \"series_count\": 270",
"};",
"    {",
"  \"name\": \"10-year\",",
"  \"group_id\": \"gen\",",
"  \"notes\": \"\",",
"  \"created\": \"2012-02-27 10:18:19-06\",",
"  \"popularity\": 53,",
"  \"series_count\": 288",
"};",
"    {",
"  \"name\": \"interest rate\",",
"  \"group_id\": \"gen\",",
"  \"notes\": \"\",",
"  \"created\": \"2012-05-29 10:14:19-05\",",
"  \"popularity\": 70,",
"  \"series_count\": 1596",
"}|]"]
        },
           "execution_count": 11,
           "metadata": {},
           "output_type": "execute_result"
          }],
   "source": [
    "myFred.Series.Tags(\"GS10\").Tags\n",
    "|\u003e Array.truncate 3 \n"
   ]
  }
,
  {
   "cell_type": "markdown",
   "metadata": {},
   
   "source": [
    "Get the first 3 tags information for series id = `\"GS10\"` specifying some optional parameters.\n",
    "\n"
   ]
  }
,
  {
   "cell_type": "code",
   "metadata": {
    "dotnet_interactive": {
     "language": "fsharp"
    },
    "polyglot_notebook": {
     "kernelName": "fsharp"
    }
   },
   "execution_count": 12, "outputs": [
          {
           "data": {
            "text/plain": ["val it: JsonProvider\u003c...\u003e.Tag array =",
"  [|{",
"  \"name\": \"h15\",",
"  \"group_id\": \"rls\",",
"  \"notes\": \"H.15 Selected Interest Rates\",",
"  \"created\": \"2012-08-16 15:21:17-05\",",
"  \"popularity\": 56,",
"  \"series_count\": 270",
"};",
"    {",
"  \"name\": \"10-year\",",
"  \"group_id\": \"gen\",",
"  \"notes\": \"\",",
"  \"created\": \"2012-02-27 10:18:19-06\",",
"  \"popularity\": 53,",
"  \"series_count\": 288",
"};",
"    {",
"  \"name\": \"interest rate\",",
"  \"group_id\": \"gen\",",
"  \"notes\": \"\",",
"  \"created\": \"2012-05-29 10:14:19-05\",",
"  \"popularity\": 70,",
"  \"series_count\": 1596",
"}|]"]
        },
           "execution_count": 12,
           "metadata": {},
           "output_type": "execute_result"
          }],
   "source": [
    "myFred.Series.Tags(\"GS10\", orderBy = OrderByTags.Popularity, sortOrder = SortOrder.Descending).Tags\n",
    "|\u003e Array.truncate 3 \n"
   ]
  }
,
  {
   "cell_type": "markdown",
   "metadata": {},
   
   "source": [
    "### F# Data FRED: Series.Observations\n",
    "\n",
    "Get the observations or data values for an economic data series.\n",
    "\n",
    "The parameters are the following:\n",
    "\n",
    "0 **id**, required.\n",
    "The id for a series (`string`).\n",
    "\n",
    "1 **realtimeStart**, optional. Default: today\u0027s date.\n",
    "The start of the real-time period. For more information, see [Real-Time Periods](https://fred.stlouisfed.org/docs/api/fred/realtime_period.html).\n",
    "\n",
    "2 **realtimeEnd**, optional. Default: today\u0027s date.\n",
    "The start of the real-time period. For more information, see [Real-Time Periods](https://fred.stlouisfed.org/docs/api/fred/realtime_period.html).\n",
    "\n",
    "3 **limit**, optional. Default: `1000`.\n",
    "The maximum number of results to return.\n",
    "integer between `1` and `1000`.\n",
    "\n",
    "4 **sortOrder**, optional. Default: `SortOrder.Ascending`.\n",
    "Sort results is ascending or descending observation date order.\n",
    "\n",
    "5 **observationStart**, optional. Default: `DateTime(1776,07,04)` (earliest available).\n",
    "The start of the observation period. `DateTime(yyyy,MM,dd)` formatted `DateTime`.\n",
    "\n",
    "6 **observationEnd**, optional. Default: today\u0027s date.   `DateTime(9999,12,31)` (latest available).\n",
    "The end of the observation period. `DateTime(yyyy,MM,dd)` formatted `DateTime`.\n",
    "\n",
    "7 **units**, optional. Default: `Units.Levels` (No transformation).\n",
    "A key that indicates a data value transformation.\n",
    "One of the following:\n",
    "`Units.Levels`\n",
    "`Units.Change`\n",
    "`Units.ChangefromYearAgo`\n",
    "`Units.PercentChange`\n",
    "`Units.PercentChangefromYearAgo`\n",
    "`Units.CompoundedAnnualRateofChange`\n",
    "`Units.ContinuouslyCompoundedRateofChange`\n",
    "`Units.ContinuouslyCompoundedAnnualRateofChange`\n",
    "`Units.NaturalLog`.\n",
    "[Unit transformation formulas](https://alfred.stlouisfed.org/help#growth_formulas)\n",
    "\n",
    "8 **frequency**, optional.\n",
    "An optional parameter that indicates a lower frequency to aggregate values to.\n",
    "The FRED frequency aggregation feature converts higher frequency data series into lower frequency\n",
    "data series (e.g. converts a monthly data series into an annual data series).\n",
    "In FRED, the highest frequency data is daily, and the lowest frequency data is annual.\n",
    "There are 3 aggregation methods available- average, sum, and end of period.\n",
    "[See the aggregation_method parameter.](https://fred.stlouisfed.org/docs/api/fred/series_observations.html#aggregation_method)\n",
    "One of the following:\n",
    "`Frequency.Daily`, `Frequency.Weekly`, `Frequency.Biweekly`, `Frequency.Monthly`, `Frequency.Quarterly`,\n",
    "`Frequency.Semiannual`, `Frequency.Annual`, `Frequency.WeeklyEndingFriday`,\n",
    "`Frequency.WeeklyEndingThursday`, `Frequency.WeeklyEndingWednesday`, `Frequency.WeeklyEndingTuesday`,\n",
    "`Frequency.WeeklyEndingMonday`, `Frequency.WeeklyEndingSunday`, `Frequency.WeeklyEndingSaturday`,\n",
    "`Frequency.BiweeklyEndingWednesday`, `Frequency.BiweeklyEndingMonday`.\n",
    "\n",
    "9 **aggMethod**, optional. Default: `AggMethod.Average.`\n",
    "A key that indicates the aggregation method used for frequency aggregation.\n",
    "This parameter has no affect if the [frequency parameter](https://fred.stlouisfed.org/docs/api/fred/series_observations.html#frequency) is not set.\n",
    "One of the following:\n",
    "`AggMethod.Average`, `AggMethod.Sum`, `AggMethod.EndOfPeriod`.\n",
    "\n",
    "Examples:\n",
    "\n",
    "Get the observations for `\"GS10\"` series without specifying any optional parameters.\n",
    "\n"
   ]
  }
,
  {
   "cell_type": "code",
   "metadata": {
    "dotnet_interactive": {
     "language": "fsharp"
    },
    "polyglot_notebook": {
     "kernelName": "fsharp"
    }
   },
   "execution_count": 13, "outputs": [
          {
           "data": {
            "text/plain": ["val it: JsonProvider\u003c...\u003e.Observation seq =",
"  seq",
"    [{",
"  \"realtime_start\": \"2023-11-13\",",
"  \"realtime_end\": \"2023-11-13\",",
"  \"date\": \"1953-04-01\",",
"  \"value\": \"2.83\"",
"};",
"     {",
"  \"realtime_start\": \"2023-11-13\",",
"  \"realtime_end\": \"2023-11-13\",",
"  \"date\": \"1953-05-01\",",
"  \"value\": \"3.05\"",
"};",
"     {",
"  \"realtime_start\": \"2023-11-13\",",
"  \"realtime_end\": \"2023-11-13\",",
"  \"date\": \"1953-06-01\",",
"  \"value\": \"3.11\"",
"}]"]
        },
           "execution_count": 13,
           "metadata": {},
           "output_type": "execute_result"
          }],
   "source": [
    "myFred.Series.Observations(\"GS10\").Observations\n",
    "|\u003e Seq.truncate 3 \n"
   ]
  }
,
  {
   "cell_type": "markdown",
   "metadata": {},
   
   "source": [
    "Get the observations for `\"DTP10J25\"` with a semi-annual frequency.\n",
    "\n"
   ]
  }
,
  {
   "cell_type": "code",
   "metadata": {
    "dotnet_interactive": {
     "language": "fsharp"
    },
    "polyglot_notebook": {
     "kernelName": "fsharp"
    }
   },
   "execution_count": 14, "outputs": [
          {
           "data": {
            "text/plain": ["val it: JsonProvider\u003c...\u003e.Observation seq =",
"  seq",
"    [{",
"  \"realtime_start\": \"2023-11-13\",",
"  \"realtime_end\": \"2023-11-13\",",
"  \"date\": \"2015-01-01\",",
"  \"value\": \".\"",
"};",
"     {",
"  \"realtime_start\": \"2023-11-13\",",
"  \"realtime_end\": \"2023-11-13\",",
"  \"date\": \"2015-07-01\",",
"  \"value\": \"0.624\"",
"};",
"     {",
"  \"realtime_start\": \"2023-11-13\",",
"  \"realtime_end\": \"2023-11-13\",",
"  \"date\": \"2016-01-01\",",
"  \"value\": \"0.315\"",
"}]"]
        },
           "execution_count": 14,
           "metadata": {},
           "output_type": "execute_result"
          }],
   "source": [
    "myFred.Series.Observations(\"DTP10J25\", frequency = Frequency.Semiannual).Observations\n",
    "|\u003e Seq.truncate 3 \n"
   ]
  }
 ],
 "metadata": {
  "kernelspec": {
   "display_name": ".NET (F#)",
   "language": "F#",
   "name": ".net-fsharp"
  },
  "language_info": {
   "file_extension": ".fs",
   "mimetype": "text/x-fsharp",
   "name": "polyglot-notebook",
   "pygments_lexer": "fsharp"
  },
  "polyglot_notebook": {
   "kernelInfo": {
    "defaultKernelName": "fsharp",
    "items": [
     {
      "aliases": [],
      "languageName": "fsharp",
      "name": "fsharp"
     }
    ]
   }
  }
 },
 "nbformat": 4,
 "nbformat_minor": 2
}

